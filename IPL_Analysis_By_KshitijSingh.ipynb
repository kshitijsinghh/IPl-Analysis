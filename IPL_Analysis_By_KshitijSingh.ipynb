{
  "nbformat": 4,
  "nbformat_minor": 0,
  "metadata": {
    "application/vnd.databricks.v1+notebook": {
      "notebookName": "IPL_Analysis_By_KshitijSingh",
      "dashboards": [],
      "notebookMetadata": {
        "pythonIndentUnit": 4
      },
      "language": "python",
      "widgets": {},
      "notebookOrigID": 479062821000080
    },
    "colab": {
      "name": "IPL_Analysis_By_KshitijSingh.ipynb",
      "provenance": [],
      "include_colab_link": true
    }
  },
  "cells": [
    {
      "cell_type": "markdown",
      "metadata": {
        "id": "view-in-github",
        "colab_type": "text"
      },
      "source": [
        "<a href=\"https://colab.research.google.com/github/kshitijsinghh/IPl-Analysis-Using-SparkSQL/blob/main/IPL_Analysis_By_KshitijSingh.ipynb\" target=\"_parent\"><img src=\"https://colab.research.google.com/assets/colab-badge.svg\" alt=\"Open In Colab\"/></a>"
      ]
    },
    {
      "cell_type": "markdown",
      "metadata": {
        "id": "Z5-BSMZfSmj0"
      },
      "source": [
        "Uploading Datasets in Databricks"
      ]
    },
    {
      "cell_type": "code",
      "metadata": {
        "application/vnd.databricks.v1+cell": {
          "title": "Uploading Datasets in Databricks",
          "showTitle": true,
          "inputWidgets": {},
          "nuid": "36f2d8ff-248b-424b-b65f-e79555ea317d"
        },
        "id": "4xN68yOlSiX5"
      },
      "source": [
        "%python\n",
        "ipl_match = spark.read.format(\"csv\").load(\"dbfs:/FileStore/shared_uploads/kshitijsinghh99@gmail.com/ipl_matches-2.csv\",header=\"true\")\n",
        "ipl_venues = spark.read.format(\"csv\").load(\"dbfs:/FileStore/shared_uploads/kshitijsinghh99@gmail.com/ipl_venue-3.csv\",header=\"true\")\n",
        "ipl_balls = spark.read.format(\"csv\").load(\"dbfs:/FileStore/shared_uploads/kshitijsinghh99@gmail.com/ipl_ball_by_ball.csv\",header=\"true\")\n",
        "\n",
        "ipl_match.createOrReplaceTempView(\"ipl_matches\")\n",
        "ipl_venues.createOrReplaceTempView(\"ipl_venue\")\n",
        "ipl_balls.createOrReplaceTempView(\"ipl_ball\")"
      ],
      "execution_count": null,
      "outputs": []
    },
    {
      "cell_type": "markdown",
      "metadata": {
        "id": "mb6NhI2BSqEh"
      },
      "source": [
        "Q2.1-Find the top 3 venues which hosted the most number of eliminator matches? "
      ]
    },
    {
      "cell_type": "code",
      "metadata": {
        "application/vnd.databricks.v1+cell": {
          "title": "Q2.1-Find the top 3 venues which hosted the most number of eliminator matches? ",
          "showTitle": true,
          "inputWidgets": {},
          "nuid": "81a6ff13-661d-4e82-86d6-35c604600c38"
        },
        "id": "xdww2FTmSiX9",
        "outputId": "a2c1069b-6feb-4019-aa73-e8a11c4439b8"
      },
      "source": [
        "%sql\n",
        "with cte as(\n",
        "select count(ipl_matches.match_id) as number_of_matches , ipl_venue.venue from ipl_matches inner join ipl_venue on ipl_matches.venue_id= ipl_venue.venue_id where ipl_matches.eliminator= 'Y' group by ipl_venue.venue \n",
        ")\n",
        ",cts as(\n",
        "select * , rank() over (order by number_of_matches desc) as rank from cte \n",
        ")\n",
        "select cts.number_of_matches, cts.venue from cts where rank<4"
      ],
      "execution_count": null,
      "outputs": [
        {
          "output_type": "display_data",
          "metadata": {
            "application/vnd.databricks.v1+output": {
              "overflow": false,
              "datasetInfos": [],
              "data": [
                [
                  3,
                  "Dubai International Cricket Stadium"
                ],
                [
                  2,
                  "Sheikh Zayed Stadium"
                ],
                [
                  1,
                  "Sardar Patel Stadium, Motera"
                ],
                [
                  1,
                  "Feroz Shah Kotla"
                ],
                [
                  1,
                  "Rajiv Gandhi International Stadium, Uppal"
                ],
                [
                  1,
                  "M.Chinnaswamy Stadium"
                ],
                [
                  1,
                  "Wankhede Stadium"
                ],
                [
                  1,
                  "Newlands"
                ],
                [
                  1,
                  "Saurashtra Cricket Association Stadium"
                ],
                [
                  1,
                  "MA Chidambaram Stadium, Chepauk"
                ]
              ],
              "plotOptions": {
                "displayType": "table",
                "customPlotOptions": {},
                "pivotColumns": null,
                "pivotAggregation": null,
                "xColumns": null,
                "yColumns": null
              },
              "columnCustomDisplayInfos": {},
              "aggType": "",
              "isJsonSchema": true,
              "removedWidgets": [],
              "aggSchema": [],
              "schema": [
                {
                  "name": "number_of_matches",
                  "type": "\"long\"",
                  "metadata": "{}"
                },
                {
                  "name": "venue",
                  "type": "\"string\"",
                  "metadata": "{}"
                }
              ],
              "aggError": "",
              "aggData": [],
              "addedWidgets": {},
              "metadata": {
                "isDbfsCommandResult": false
              },
              "dbfsResultPath": null,
              "type": "table",
              "aggOverflow": false,
              "aggSeriesLimitReached": false,
              "arguments": {}
            }
          },
          "data": {
            "text/html": [
              "<style scoped>\n  .table-result-container {\n    max-height: 300px;\n    overflow: auto;\n  }\n  table, th, td {\n    border: 1px solid black;\n    border-collapse: collapse;\n  }\n  th, td {\n    padding: 5px;\n  }\n  th {\n    text-align: left;\n  }\n</style><div class='table-result-container'><table class='table-result'><thead style='background-color: white'><tr><th>number_of_matches</th><th>venue</th></tr></thead><tbody><tr><td>3</td><td>Dubai International Cricket Stadium</td></tr><tr><td>2</td><td>Sheikh Zayed Stadium</td></tr><tr><td>1</td><td>Sardar Patel Stadium, Motera</td></tr><tr><td>1</td><td>Feroz Shah Kotla</td></tr><tr><td>1</td><td>Rajiv Gandhi International Stadium, Uppal</td></tr><tr><td>1</td><td>M.Chinnaswamy Stadium</td></tr><tr><td>1</td><td>Wankhede Stadium</td></tr><tr><td>1</td><td>Newlands</td></tr><tr><td>1</td><td>Saurashtra Cricket Association Stadium</td></tr><tr><td>1</td><td>MA Chidambaram Stadium, Chepauk</td></tr></tbody></table></div>"
            ]
          },
          "transient": null
        }
      ]
    },
    {
      "cell_type": "markdown",
      "metadata": {
        "id": "pQFH1eKXSv4K"
      },
      "source": [
        "Q2.2-Return the most number of catches taken by a player in IPL history?"
      ]
    },
    {
      "cell_type": "code",
      "metadata": {
        "application/vnd.databricks.v1+cell": {
          "title": "Q2.2-Return the most number of catches taken by a player in IPL history?",
          "showTitle": true,
          "inputWidgets": {},
          "nuid": "369a0c09-c46e-4573-815f-40bcc4638ae8"
        },
        "id": "Caz9sWowSiYA",
        "outputId": "95c94d0d-0d1c-4dde-ec2c-75c8d685f1fa"
      },
      "source": [
        "%sql\n",
        "with cte as\n",
        "(select sum(ipl_ball.is_wicket) as catches , ipl_ball.fielder from ipl_ball where ipl_ball.is_wicket=1 and ipl_ball.dismissal_kind= 'caught' group by ipl_ball.fielder\n",
        ")\n",
        ",cts as(\n",
        "select * , dense_rank() over (order by catches desc) as rank from cte \n",
        ")\n",
        "select catches, fielder from cts where rank=1"
      ],
      "execution_count": null,
      "outputs": [
        {
          "output_type": "display_data",
          "metadata": {
            "application/vnd.databricks.v1+output": {
              "overflow": false,
              "datasetInfos": [],
              "data": [
                [
                  118,
                  "KD Karthik"
                ]
              ],
              "plotOptions": {
                "displayType": "table",
                "customPlotOptions": {},
                "pivotColumns": null,
                "pivotAggregation": null,
                "xColumns": null,
                "yColumns": null
              },
              "columnCustomDisplayInfos": {},
              "aggType": "",
              "isJsonSchema": true,
              "removedWidgets": [],
              "aggSchema": [],
              "schema": [
                {
                  "name": "catches",
                  "type": "\"double\"",
                  "metadata": "{}"
                },
                {
                  "name": "fielder",
                  "type": "\"string\"",
                  "metadata": "{}"
                }
              ],
              "aggError": "",
              "aggData": [],
              "addedWidgets": {},
              "metadata": {
                "isDbfsCommandResult": false
              },
              "dbfsResultPath": null,
              "type": "table",
              "aggOverflow": false,
              "aggSeriesLimitReached": false,
              "arguments": {}
            }
          },
          "data": {
            "text/html": [
              "<style scoped>\n  .table-result-container {\n    max-height: 300px;\n    overflow: auto;\n  }\n  table, th, td {\n    border: 1px solid black;\n    border-collapse: collapse;\n  }\n  th, td {\n    padding: 5px;\n  }\n  th {\n    text-align: left;\n  }\n</style><div class='table-result-container'><table class='table-result'><thead style='background-color: white'><tr><th>catches</th><th>fielder</th></tr></thead><tbody><tr><td>118.0</td><td>KD Karthik</td></tr></tbody></table></div>"
            ]
          },
          "transient": null
        }
      ]
    },
    {
      "cell_type": "markdown",
      "metadata": {
        "id": "L_b2fC2rSxT5"
      },
      "source": [
        "Q2.3-Highest wicket taker in matches which were affected by Duckworth-Lewis’s method (D/L method)."
      ]
    },
    {
      "cell_type": "code",
      "metadata": {
        "application/vnd.databricks.v1+cell": {
          "title": "Q2.3-Highest wicket taker in matches which were affected by Duckworth-Lewis’s method (D/L method).",
          "showTitle": true,
          "inputWidgets": {},
          "nuid": "fc3fee9d-ab8a-4331-8a51-55758c931a7c"
        },
        "id": "wtuSIMIfSiYB",
        "outputId": "cb909ef1-2362-4dd1-9017-9ec4f7fcbb2e"
      },
      "source": [
        "%sql\n",
        "with cte as(\n",
        "select count(ipl_ball.is_wicket) as wicket, ipl_ball.bowler as bowler from ipl_ball inner join ipl_matches on ipl_ball.match_id = ipl_matches.match_id where ipl_matches.method = 'D/L' and ipl_ball.is_wicket=1 group by bowler\n",
        ")\n",
        ",cts as(\n",
        "select *, dense_rank() over(order by wicket desc) as rank from cte\n",
        ")\n",
        "select wicket, bowler,rank from cts where rank=1"
      ],
      "execution_count": null,
      "outputs": [
        {
          "output_type": "display_data",
          "metadata": {
            "application/vnd.databricks.v1+output": {
              "overflow": false,
              "datasetInfos": [],
              "data": [
                [
                  8,
                  "R Ashwin",
                  1
                ],
                [
                  8,
                  "AB Dinda",
                  1
                ]
              ],
              "plotOptions": {
                "displayType": "table",
                "customPlotOptions": {},
                "pivotColumns": null,
                "pivotAggregation": null,
                "xColumns": null,
                "yColumns": null
              },
              "columnCustomDisplayInfos": {},
              "aggType": "",
              "isJsonSchema": true,
              "removedWidgets": [],
              "aggSchema": [],
              "schema": [
                {
                  "name": "wicket",
                  "type": "\"long\"",
                  "metadata": "{}"
                },
                {
                  "name": "bowler",
                  "type": "\"string\"",
                  "metadata": "{}"
                },
                {
                  "name": "rank",
                  "type": "\"integer\"",
                  "metadata": "{}"
                }
              ],
              "aggError": "",
              "aggData": [],
              "addedWidgets": {},
              "metadata": {
                "isDbfsCommandResult": false
              },
              "dbfsResultPath": null,
              "type": "table",
              "aggOverflow": false,
              "aggSeriesLimitReached": false,
              "arguments": {}
            }
          },
          "data": {
            "text/html": [
              "<style scoped>\n  .table-result-container {\n    max-height: 300px;\n    overflow: auto;\n  }\n  table, th, td {\n    border: 1px solid black;\n    border-collapse: collapse;\n  }\n  th, td {\n    padding: 5px;\n  }\n  th {\n    text-align: left;\n  }\n</style><div class='table-result-container'><table class='table-result'><thead style='background-color: white'><tr><th>wicket</th><th>bowler</th><th>rank</th></tr></thead><tbody><tr><td>8</td><td>R Ashwin</td><td>1</td></tr><tr><td>8</td><td>AB Dinda</td><td>1</td></tr></tbody></table></div>"
            ]
          },
          "transient": null
        }
      ]
    },
    {
      "cell_type": "markdown",
      "metadata": {
        "id": "UpZiJsb3S3PJ"
      },
      "source": [
        "Q2.4-Highest strike rate by a batsman in non powerplay overs(7-20 overs)"
      ]
    },
    {
      "cell_type": "code",
      "metadata": {
        "application/vnd.databricks.v1+cell": {
          "title": "Q2.4-Highest strike rate by a batsman in non powerplay overs(7-20 overs)",
          "showTitle": true,
          "inputWidgets": {},
          "nuid": "1f7fef3a-ea3f-4257-bfda-b5655f5ebc71"
        },
        "id": "tjqTdOUKSiYD",
        "outputId": "8449d10c-59b9-4c51-8716-def784602a25"
      },
      "source": [
        "%sql\n",
        "with cte as(\n",
        "select sum(ipl_ball.batsman_runs) as runs, count(ipl_ball.ball) as balls, ipl_ball.batsman as batsman from ipl_ball where ipl_ball.overs >6 group by batsman \n",
        ")\n",
        ",cts as(\n",
        "select ((runs/balls)*100) as strike_rate , batsman from cte\n",
        ")\n",
        ",cta as (\n",
        "select *, dense_rank() over (order by strike_rate desc)as rank from cts)\n",
        "select batsman, strike_rate from cta where rank=1"
      ],
      "execution_count": null,
      "outputs": [
        {
          "output_type": "display_data",
          "metadata": {
            "application/vnd.databricks.v1+output": {
              "overflow": false,
              "datasetInfos": [],
              "data": [
                [
                  "B Stanlake",
                  250
                ]
              ],
              "plotOptions": {
                "displayType": "table",
                "customPlotOptions": {},
                "pivotColumns": null,
                "pivotAggregation": null,
                "xColumns": null,
                "yColumns": null
              },
              "columnCustomDisplayInfos": {},
              "aggType": "",
              "isJsonSchema": true,
              "removedWidgets": [],
              "aggSchema": [],
              "schema": [
                {
                  "name": "batsman",
                  "type": "\"string\"",
                  "metadata": "{}"
                },
                {
                  "name": "strike_rate",
                  "type": "\"double\"",
                  "metadata": "{}"
                }
              ],
              "aggError": "",
              "aggData": [],
              "addedWidgets": {},
              "metadata": {
                "isDbfsCommandResult": false
              },
              "dbfsResultPath": null,
              "type": "table",
              "aggOverflow": false,
              "aggSeriesLimitReached": false,
              "arguments": {}
            }
          },
          "data": {
            "text/html": [
              "<style scoped>\n  .table-result-container {\n    max-height: 300px;\n    overflow: auto;\n  }\n  table, th, td {\n    border: 1px solid black;\n    border-collapse: collapse;\n  }\n  th, td {\n    padding: 5px;\n  }\n  th {\n    text-align: left;\n  }\n</style><div class='table-result-container'><table class='table-result'><thead style='background-color: white'><tr><th>batsman</th><th>strike_rate</th></tr></thead><tbody><tr><td>B Stanlake</td><td>250.0</td></tr></tbody></table></div>"
            ]
          },
          "transient": null
        }
      ]
    },
    {
      "cell_type": "markdown",
      "metadata": {
        "id": "EUhVxhmoS41Y"
      },
      "source": [
        "Q2.5-Write a query to return a report for highest extra runs in a venue"
      ]
    },
    {
      "cell_type": "code",
      "metadata": {
        "application/vnd.databricks.v1+cell": {
          "title": "Q2.5-Write a query to return a report for highest extra runs in a venue",
          "showTitle": true,
          "inputWidgets": {},
          "nuid": "dfa80873-0f81-4ed9-98f2-d3053b99b90e"
        },
        "id": "EA7279FZSiYF",
        "outputId": "35822ea5-ccbe-4503-aa6a-46987d1bb2b3"
      },
      "source": [
        "%sql\n",
        "with cte as(\n",
        "select ipl_matches.match_id as id , ipl_matches.venue_id as Vid, ipl_venue.venue as venue, ipl_venue.city as city from ipl_matches inner join ipl_venue on ipl_matches.venue_id=ipl_venue.venue_id\n",
        ")\n",
        ",cts as (\n",
        "select cte.id, cte.Vid, cte.venue as venue, cte.city as city , ipl_ball.extra_runs as extra_runs from cte inner join ipl_ball on cte.id=ipl_ball.match_id\n",
        ")\n",
        ",cta as(\n",
        "select sum(cts.extra_runs) as extra_runs , cts.venue, cts.city from cts group by venue ,city\n",
        ")\n",
        ",ctb as(\n",
        "select *, rank() over(order by extra_runs desc) as rank from cta\n",
        ")\n",
        "select * from ctb where rank=1\n"
      ],
      "execution_count": null,
      "outputs": [
        {
          "output_type": "display_data",
          "metadata": {
            "application/vnd.databricks.v1+output": {
              "overflow": false,
              "datasetInfos": [],
              "data": [
                [
                  1355,
                  "M.Chinnaswamy Stadium",
                  "Bengaluru",
                  1
                ]
              ],
              "plotOptions": {
                "displayType": "table",
                "customPlotOptions": {},
                "pivotColumns": null,
                "pivotAggregation": null,
                "xColumns": null,
                "yColumns": null
              },
              "columnCustomDisplayInfos": {},
              "aggType": "",
              "isJsonSchema": true,
              "removedWidgets": [],
              "aggSchema": [],
              "schema": [
                {
                  "name": "extra_runs",
                  "type": "\"double\"",
                  "metadata": "{}"
                },
                {
                  "name": "venue",
                  "type": "\"string\"",
                  "metadata": "{}"
                },
                {
                  "name": "city",
                  "type": "\"string\"",
                  "metadata": "{}"
                },
                {
                  "name": "rank",
                  "type": "\"integer\"",
                  "metadata": "{}"
                }
              ],
              "aggError": "",
              "aggData": [],
              "addedWidgets": {},
              "metadata": {
                "isDbfsCommandResult": false
              },
              "dbfsResultPath": null,
              "type": "table",
              "aggOverflow": false,
              "aggSeriesLimitReached": false,
              "arguments": {}
            }
          },
          "data": {
            "text/html": [
              "<style scoped>\n  .table-result-container {\n    max-height: 300px;\n    overflow: auto;\n  }\n  table, th, td {\n    border: 1px solid black;\n    border-collapse: collapse;\n  }\n  th, td {\n    padding: 5px;\n  }\n  th {\n    text-align: left;\n  }\n</style><div class='table-result-container'><table class='table-result'><thead style='background-color: white'><tr><th>extra_runs</th><th>venue</th><th>city</th><th>rank</th></tr></thead><tbody><tr><td>1355.0</td><td>M.Chinnaswamy Stadium</td><td>Bengaluru</td><td>1</td></tr></tbody></table></div>"
            ]
          },
          "transient": null
        }
      ]
    },
    {
      "cell_type": "markdown",
      "metadata": {
        "id": "_w6UxCjjS7ZR"
      },
      "source": [
        "Q2.6-Cricketers with the most number of players of the match award in neutral venues."
      ]
    },
    {
      "cell_type": "code",
      "metadata": {
        "application/vnd.databricks.v1+cell": {
          "title": "Q2.6-Cricketers with the most number of players of the match award in neutral venues.",
          "showTitle": true,
          "inputWidgets": {},
          "nuid": "d7c63539-d17f-4c50-9e91-8de29e9f3ae4"
        },
        "id": "q4-_IbjtSiYG",
        "outputId": "a32d2edc-4b1b-4b08-f122-1a6e71780462"
      },
      "source": [
        "%sql\n",
        "with cte as(\n",
        "select ipl_matches.player_of_match as player_name , count(neutral_venue) as number_of_awards from ipl_matches where ipl_matches.neutral_venue = 1 group by player_name \n",
        ")\n",
        ",cts as(\n",
        "select *, dense_rank() over (order by number_of_awards desc) as rank from cte\n",
        ")\n",
        "select * from cts where rank=1"
      ],
      "execution_count": null,
      "outputs": [
        {
          "output_type": "display_data",
          "metadata": {
            "application/vnd.databricks.v1+output": {
              "overflow": false,
              "datasetInfos": [],
              "data": [
                [
                  "YK Pathan",
                  3,
                  1
                ],
                [
                  "GJ Maxwell",
                  3,
                  1
                ],
                [
                  "JH Kallis",
                  3,
                  1
                ],
                [
                  "JP Duminy",
                  3,
                  1
                ]
              ],
              "plotOptions": {
                "displayType": "table",
                "customPlotOptions": {},
                "pivotColumns": null,
                "pivotAggregation": null,
                "xColumns": null,
                "yColumns": null
              },
              "columnCustomDisplayInfos": {},
              "aggType": "",
              "isJsonSchema": true,
              "removedWidgets": [],
              "aggSchema": [],
              "schema": [
                {
                  "name": "player_name",
                  "type": "\"string\"",
                  "metadata": "{}"
                },
                {
                  "name": "number_of_awards",
                  "type": "\"long\"",
                  "metadata": "{}"
                },
                {
                  "name": "rank",
                  "type": "\"integer\"",
                  "metadata": "{}"
                }
              ],
              "aggError": "",
              "aggData": [],
              "addedWidgets": {},
              "metadata": {
                "isDbfsCommandResult": false
              },
              "dbfsResultPath": null,
              "type": "table",
              "aggOverflow": false,
              "aggSeriesLimitReached": false,
              "arguments": {}
            }
          },
          "data": {
            "text/html": [
              "<style scoped>\n  .table-result-container {\n    max-height: 300px;\n    overflow: auto;\n  }\n  table, th, td {\n    border: 1px solid black;\n    border-collapse: collapse;\n  }\n  th, td {\n    padding: 5px;\n  }\n  th {\n    text-align: left;\n  }\n</style><div class='table-result-container'><table class='table-result'><thead style='background-color: white'><tr><th>player_name</th><th>number_of_awards</th><th>rank</th></tr></thead><tbody><tr><td>YK Pathan</td><td>3</td><td>1</td></tr><tr><td>GJ Maxwell</td><td>3</td><td>1</td></tr><tr><td>JH Kallis</td><td>3</td><td>1</td></tr><tr><td>JP Duminy</td><td>3</td><td>1</td></tr></tbody></table></div>"
            ]
          },
          "transient": null
        }
      ]
    },
    {
      "cell_type": "markdown",
      "metadata": {
        "id": "TuS1IiceS-9p"
      },
      "source": [
        "Q2.7-List of top 10 players with the highest batting average"
      ]
    },
    {
      "cell_type": "code",
      "metadata": {
        "application/vnd.databricks.v1+cell": {
          "title": "Q2.7-List of top 10 players with the highest batting average",
          "showTitle": true,
          "inputWidgets": {},
          "nuid": "db5dd2f9-c489-474d-a920-6db8847ed8b8"
        },
        "id": "c2yaqaGCSiYI",
        "outputId": "d49d78f2-9d82-45d5-8bd0-2d5f30597204"
      },
      "source": [
        "%sql\n",
        "with cte as (\n",
        "select sum(ipl_ball.batsman_runs) as total_runs, sum(ipl_ball.is_wicket) as total_out,(sum(ipl_ball.batsman_runs)/sum(ipl_ball.is_wicket)) as batting_avg , ipl_ball.batsman as batsman from ipl_ball  group by batsman\n",
        ")\n",
        ",cts as (\n",
        "select * , rank() over (order by batting_avg desc) as r from cte \n",
        ")\n",
        "select * from cts where r<11"
      ],
      "execution_count": null,
      "outputs": [
        {
          "output_type": "display_data",
          "metadata": {
            "application/vnd.databricks.v1+output": {
              "overflow": false,
              "datasetInfos": [],
              "data": [
                [
                  88,
                  1,
                  88,
                  "Iqbal Abdulla",
                  1
                ],
                [
                  204,
                  3,
                  68,
                  "RD Gaikwad",
                  2
                ],
                [
                  167,
                  3,
                  55.666666666666664,
                  "MN van Wyk",
                  3
                ],
                [
                  203,
                  4,
                  50.75,
                  "PD Collingwood",
                  4
                ],
                [
                  577,
                  13,
                  44.38461538461539,
                  "HM Amla",
                  5
                ],
                [
                  44,
                  1,
                  44,
                  "LH Ferguson",
                  6
                ],
                [
                  2647,
                  62,
                  42.693548387096776,
                  "KL Rahul",
                  7
                ],
                [
                  4849,
                  114,
                  42.53508771929825,
                  "AB de Villiers",
                  8
                ],
                [
                  5254,
                  126,
                  41.698412698412696,
                  "DA Warner",
                  9
                ],
                [
                  2029,
                  49,
                  41.40816326530612,
                  "JP Duminy",
                  10
                ]
              ],
              "plotOptions": {
                "displayType": "table",
                "customPlotOptions": {},
                "pivotColumns": null,
                "pivotAggregation": null,
                "xColumns": null,
                "yColumns": null
              },
              "columnCustomDisplayInfos": {},
              "aggType": "",
              "isJsonSchema": true,
              "removedWidgets": [],
              "aggSchema": [],
              "schema": [
                {
                  "name": "total_runs",
                  "type": "\"double\"",
                  "metadata": "{}"
                },
                {
                  "name": "total_out",
                  "type": "\"double\"",
                  "metadata": "{}"
                },
                {
                  "name": "batting_avg",
                  "type": "\"double\"",
                  "metadata": "{}"
                },
                {
                  "name": "batsman",
                  "type": "\"string\"",
                  "metadata": "{}"
                },
                {
                  "name": "r",
                  "type": "\"integer\"",
                  "metadata": "{}"
                }
              ],
              "aggError": "",
              "aggData": [],
              "addedWidgets": {},
              "metadata": {
                "isDbfsCommandResult": false
              },
              "dbfsResultPath": null,
              "type": "table",
              "aggOverflow": false,
              "aggSeriesLimitReached": false,
              "arguments": {}
            }
          },
          "data": {
            "text/html": [
              "<style scoped>\n  .table-result-container {\n    max-height: 300px;\n    overflow: auto;\n  }\n  table, th, td {\n    border: 1px solid black;\n    border-collapse: collapse;\n  }\n  th, td {\n    padding: 5px;\n  }\n  th {\n    text-align: left;\n  }\n</style><div class='table-result-container'><table class='table-result'><thead style='background-color: white'><tr><th>total_runs</th><th>total_out</th><th>batting_avg</th><th>batsman</th><th>r</th></tr></thead><tbody><tr><td>88.0</td><td>1.0</td><td>88.0</td><td>Iqbal Abdulla</td><td>1</td></tr><tr><td>204.0</td><td>3.0</td><td>68.0</td><td>RD Gaikwad</td><td>2</td></tr><tr><td>167.0</td><td>3.0</td><td>55.666666666666664</td><td>MN van Wyk</td><td>3</td></tr><tr><td>203.0</td><td>4.0</td><td>50.75</td><td>PD Collingwood</td><td>4</td></tr><tr><td>577.0</td><td>13.0</td><td>44.38461538461539</td><td>HM Amla</td><td>5</td></tr><tr><td>44.0</td><td>1.0</td><td>44.0</td><td>LH Ferguson</td><td>6</td></tr><tr><td>2647.0</td><td>62.0</td><td>42.693548387096776</td><td>KL Rahul</td><td>7</td></tr><tr><td>4849.0</td><td>114.0</td><td>42.53508771929825</td><td>AB de Villiers</td><td>8</td></tr><tr><td>5254.0</td><td>126.0</td><td>41.698412698412696</td><td>DA Warner</td><td>9</td></tr><tr><td>2029.0</td><td>49.0</td><td>41.40816326530612</td><td>JP Duminy</td><td>10</td></tr></tbody></table></div>"
            ]
          },
          "transient": null
        }
      ]
    },
    {
      "cell_type": "markdown",
      "metadata": {
        "id": "ypwHU-f_TEm_"
      },
      "source": [
        "Q2.8-Query to find out who has officiated (as an umpire) the most number of matches in IPL."
      ]
    },
    {
      "cell_type": "code",
      "metadata": {
        "application/vnd.databricks.v1+cell": {
          "title": "Q2.8-Query to find out who has officiated (as an umpire) the most number of matches in IPL.",
          "showTitle": true,
          "inputWidgets": {},
          "nuid": "63535cfd-0b10-4054-bb31-fd9eeeaf96d7"
        },
        "id": "xJ1SQ8DHSiYI",
        "outputId": "b461e75f-c852-4a09-ed12-3ff93681e23f"
      },
      "source": [
        "%sql\n",
        "with cte as(\n",
        "select match_id, stack(2,'umpire_1',umpire1,'umpire_2',umpire2) as (umpire_term,umpire_name) from ipl_matches \n",
        ")\n",
        ",cts as(\n",
        "select count(cte.match_id) as number_of_matches, cte.umpire_name as umpire_name from cte group by cte.umpire_name\n",
        ")\n",
        ",cta as(\n",
        "select *, rank() over (order by number_of_matches desc) as rank from cts\n",
        ")\n",
        "select * from cta where rank=1"
      ],
      "execution_count": null,
      "outputs": [
        {
          "output_type": "display_data",
          "metadata": {
            "application/vnd.databricks.v1+output": {
              "overflow": false,
              "datasetInfos": [],
              "data": [
                [
                  121,
                  "S Ravi",
                  1
                ]
              ],
              "plotOptions": {
                "displayType": "table",
                "customPlotOptions": {},
                "pivotColumns": null,
                "pivotAggregation": null,
                "xColumns": null,
                "yColumns": null
              },
              "columnCustomDisplayInfos": {},
              "aggType": "",
              "isJsonSchema": true,
              "removedWidgets": [],
              "aggSchema": [],
              "schema": [
                {
                  "name": "number_of_matches",
                  "type": "\"long\"",
                  "metadata": "{}"
                },
                {
                  "name": "umpire_name",
                  "type": "\"string\"",
                  "metadata": "{}"
                },
                {
                  "name": "rank",
                  "type": "\"integer\"",
                  "metadata": "{}"
                }
              ],
              "aggError": "",
              "aggData": [],
              "addedWidgets": {},
              "metadata": {
                "isDbfsCommandResult": false
              },
              "dbfsResultPath": null,
              "type": "table",
              "aggOverflow": false,
              "aggSeriesLimitReached": false,
              "arguments": {}
            }
          },
          "data": {
            "text/html": [
              "<style scoped>\n  .table-result-container {\n    max-height: 300px;\n    overflow: auto;\n  }\n  table, th, td {\n    border: 1px solid black;\n    border-collapse: collapse;\n  }\n  th, td {\n    padding: 5px;\n  }\n  th {\n    text-align: left;\n  }\n</style><div class='table-result-container'><table class='table-result'><thead style='background-color: white'><tr><th>number_of_matches</th><th>umpire_name</th><th>rank</th></tr></thead><tbody><tr><td>121</td><td>S Ravi</td><td>1</td></tr></tbody></table></div>"
            ]
          },
          "transient": null
        }
      ]
    },
    {
      "cell_type": "markdown",
      "metadata": {
        "id": "vM-vGY5CTHoY"
      },
      "source": [
        "Q2.9-How winning/losing tosses can impact a match and it's result?"
      ]
    },
    {
      "cell_type": "code",
      "metadata": {
        "application/vnd.databricks.v1+cell": {
          "title": "Q2.9-How winning/losing tosses can impact a match and it's result?",
          "showTitle": true,
          "inputWidgets": {},
          "nuid": "e39df73c-4a8b-42c7-86e7-c616b5a389b0"
        },
        "id": "6_aN18JMSiYK",
        "outputId": "a2160769-bd6d-4b7c-89ee-af76d7cd1cf3"
      },
      "source": [
        "%sql\n",
        "\n",
        "select count(*) as Counts, 'Number_of_Times_Toss_winner_is_match_winner' as Status from ipl_matches where ipl_matches.toss_winner=ipl_matches.winner\n",
        "union all\n",
        "\n",
        "select count(*) as Counts, 'Number_of_Times_Toss_winner_is_not_match_winner' as Status from ipl_matches where ipl_matches.toss_winner!=ipl_matches.winner\n",
        "\n",
        "\n"
      ],
      "execution_count": null,
      "outputs": [
        {
          "output_type": "display_data",
          "metadata": {
            "application/vnd.databricks.v1+output": {
              "overflow": false,
              "datasetInfos": [],
              "data": [
                [
                  418,
                  "Number_of_Times_Toss_winner_is_match_winner"
                ],
                [
                  398,
                  "Number_of_Times_Toss_winner_is_not_match_winner"
                ]
              ],
              "plotOptions": {
                "displayType": "pieChart",
                "customPlotOptions": {
                  "pieChart": [
                    {
                      "key": "donut",
                      "value": false
                    }
                  ],
                  "barChart": [
                    {
                      "key": "grouped",
                      "value": true
                    },
                    {
                      "key": "stacked",
                      "value": false
                    },
                    {
                      "key": "100_stacked",
                      "value": false
                    }
                  ],
                  "mapPlot": [],
                  "plotlyBar": [
                    {
                      "key": "grouped",
                      "value": true
                    },
                    {
                      "key": "stacked",
                      "value": false
                    },
                    {
                      "key": "100_stacked",
                      "value": false
                    }
                  ],
                  "boxPlot": [],
                  "scatterPlot": [
                    {
                      "key": "loess",
                      "value": false
                    },
                    {
                      "key": "bandwidth",
                      "value": 0.3
                    }
                  ],
                  "plotlyLine": [
                    {
                      "key": "yRange",
                      "value": ""
                    },
                    {
                      "key": "showPoints",
                      "value": false
                    },
                    {
                      "key": "logScale",
                      "value": false
                    }
                  ]
                },
                "pivotColumns": [],
                "pivotAggregation": "sum",
                "xColumns": [
                  "Status"
                ],
                "yColumns": [
                  "Counts"
                ]
              },
              "columnCustomDisplayInfos": {},
              "aggType": "",
              "isJsonSchema": true,
              "removedWidgets": [],
              "aggSchema": [],
              "schema": [
                {
                  "name": "Counts",
                  "type": "\"long\"",
                  "metadata": "{}"
                },
                {
                  "name": "Status",
                  "type": "\"string\"",
                  "metadata": "{}"
                }
              ],
              "aggError": "",
              "aggData": [],
              "addedWidgets": {},
              "metadata": {
                "isDbfsCommandResult": false
              },
              "dbfsResultPath": null,
              "type": "table",
              "aggOverflow": false,
              "aggSeriesLimitReached": false,
              "arguments": {}
            }
          },
          "data": {
            "text/html": [
              "<style scoped>\n  .table-result-container {\n    max-height: 300px;\n    overflow: auto;\n  }\n  table, th, td {\n    border: 1px solid black;\n    border-collapse: collapse;\n  }\n  th, td {\n    padding: 5px;\n  }\n  th {\n    text-align: left;\n  }\n</style><div class='table-result-container'><table class='table-result'><thead style='background-color: white'><tr><th>Counts</th><th>Status</th></tr></thead><tbody><tr><td>418</td><td>Number_of_Times_Toss_winner_is_match_winner</td></tr><tr><td>398</td><td>Number_of_Times_Toss_winner_is_not_match_winner</td></tr></tbody></table></div>"
            ]
          },
          "transient": null
        }
      ]
    },
    {
      "cell_type": "markdown",
      "metadata": {
        "id": "RcRBPI-bTKQo"
      },
      "source": [
        "Uploading Datasets in Sqlite3"
      ]
    },
    {
      "cell_type": "code",
      "metadata": {
        "application/vnd.databricks.v1+cell": {
          "title": "Uploading Datasets in Sqlite3",
          "showTitle": true,
          "inputWidgets": {},
          "nuid": "29f0a749-b9cb-4935-bc2d-aec144a52ccb"
        },
        "id": "rj2CKtMLSiYL"
      },
      "source": [
        "%python\n",
        "# coding=utf8\n",
        "import sqlite3 as sql\n",
        "import pandas as pd\n",
        "\n",
        "ipl_match = spark.read.format(\"csv\").load(\"dbfs:/FileStore/shared_uploads/kshitijsinghh99@gmail.com/ipl_matches-2.csv\",header=\"true\")\n",
        "ipl_venues = spark.read.format(\"csv\").load(\"dbfs:/FileStore/shared_uploads/kshitijsinghh99@gmail.com/ipl_venue-3.csv\",header=\"true\")\n",
        "ipl_balls = spark.read.format(\"csv\").load(\"dbfs:/FileStore/shared_uploads/kshitijsinghh99@gmail.com/ipl_ball_by_ball.csv\",header=\"true\")\n",
        "\n",
        "\n",
        "ipl_matches = ipl_match.toPandas()\n",
        "ipl_venue = ipl_venues.toPandas()\n",
        "ipl_ball = ipl_balls.toPandas()\n",
        "conn = sql.connect('IPL_Analysis.db')\n",
        "ipl_matches.to_sql('ipl_matches',conn)\n",
        "ipl_venue.to_sql('ipl_venue',conn)\n",
        "ipl_ball.to_sql('ipl_ball',conn)\n",
        "\n",
        "\n"
      ],
      "execution_count": null,
      "outputs": []
    },
    {
      "cell_type": "markdown",
      "metadata": {
        "id": "vOUQewfFTLVv"
      },
      "source": [
        "Querying in Sqlite3"
      ]
    },
    {
      "cell_type": "code",
      "metadata": {
        "application/vnd.databricks.v1+cell": {
          "title": "Querying in Sqlite3",
          "showTitle": true,
          "inputWidgets": {},
          "nuid": "01b7946a-9a7d-42da-884b-496412ad6c96"
        },
        "id": "F22d3I-QSiYL",
        "outputId": "9ee192d0-fea9-4bcb-90ed-4ed051700647"
      },
      "source": [
        "%python \n",
        "# coding=utf8\n",
        "import sqlite3 as sql\n",
        "class Database:\n",
        "    def connection(self):\n",
        "        try:\n",
        "            con = sql.connect('IPL_Analysis.db')\n",
        "            print(\"Connected To Database\")\n",
        "            \n",
        "            return con\n",
        "        except Exception as e:\n",
        "            print(e)\n",
        "    \n",
        "    \n",
        "    \n",
        "        \n",
        "    def query1(self):\n",
        "        con =self.connection()\n",
        "        \n",
        "        query= con.cursor()\n",
        "        query.execute('with cte as(select count(ipl_matches.match_id) as number_of_matches , ipl_venue.venue from ipl_matches inner join ipl_venue on ipl_matches.venue_id= ipl_venue.venue_id where ipl_matches.eliminator= \\'{}\\' group by ipl_venue.venue ),cts as(select * , rank() over (order by number_of_matches desc) as rank from cte ) select cts.number_of_matches, cts.venue from cts where rank<\\'{}\\''.format(\"Y\",\"4\"))\n",
        "        \n",
        "        data = query.fetchall()\n",
        "        for i in data:\n",
        "            print(\"Number of matches hosted- \"+str(i[0])+\" ,\"+\"Name of stadium- \"+str(i[1]))\n",
        "        \n",
        "        \n",
        "        \n",
        "        \n",
        "    def query2(self):\n",
        "        con =self.connection()\n",
        "        print(\"connected\")\n",
        "        \n",
        "        \n",
        "        query= con.cursor()\n",
        "        query.execute('with cte as(select sum(ipl_ball.is_wicket) as catches , ipl_ball.fielder from ipl_ball where ipl_ball.is_wicket=\\'{}\\' and ipl_ball.dismissal_kind= \\'{}\\' group by ipl_ball.fielder),cts as(select * , rank() over (order by catches desc) as rank from cte ) select catches,fielder  from cts limit \\'{}\\' ' .format('1','caught',\"1\"))\n",
        "        data = query.fetchall()\n",
        "        for i in data:\n",
        "            print(\"Number of catches- \"+str(i[0])+\" ,\"+\"Name of player- \"+str(i[1]) )\n",
        "        \n",
        "        \n",
        "    def query3(self):\n",
        "        \n",
        "        con =self.connection()\n",
        "        query= con.cursor()\n",
        "        query.execute('with cte as(select sum(ipl_ball.is_wicket) as wicket, ipl_ball.bowler as bowler from ipl_ball inner join ipl_matches on ipl_ball.match_id = ipl_matches.match_id where ipl_matches.method = \\'{}\\'  and ipl_ball.is_wicket=\\'{}\\' group by bowler),cts as(select *, dense_rank() over(order by wicket desc) as rr from cte) select cts.wicket, cts.bowler,cts.rr from cts  limit \\'{}\\' '.format(\"D/L\",\"1\",\"2\"))\n",
        "        \n",
        "        data = query.fetchall()\n",
        "        for i in data:\n",
        "            print(\"Number of wickets- \"+str(i[0])+\", \"+\"Name of player- \"+ str(i[1])+\" \")\n",
        "        \n",
        "        \n",
        "    \n",
        "    def query4(self):\n",
        "        con =self.connection()\n",
        "        \n",
        "        query= con.cursor()\n",
        "        query.execute('with cte as(select sum(ipl_ball.batsman_runs) as runs, count(ipl_ball.ball) as balls, ipl_ball.batsman as batsman from ipl_ball where ipl_ball.overs >\\'{}\\' group by batsman ),cts as(select ((runs/balls)*100) as strike_rate , batsman from cte),cta as (select *, dense_rank() over (order by strike_rate desc)as r from cts) select batsman, strike_rate from cta where r<\\'{}\\'  '.format(\"6\",\"2\"))\n",
        "        data = query.fetchall()\n",
        "        for i in data:\n",
        "            print(\"Name of Player- \"+str(i[0])+\", \"+\"Strike_rate- \"+str(i[1]))\n",
        "        \n",
        "        \n",
        "    def query5(self):\n",
        "        con =self.connection()\n",
        "        \n",
        "        query= con.cursor()\n",
        "        query.execute('with cte as(select ipl_matches.match_id as id , ipl_matches.venue_id as Vid, ipl_venue.venue as venue, ipl_venue.city as city from ipl_matches inner join ipl_venue on ipl_matches.venue_id=ipl_venue.venue_id),cts as (select cte.id, cte.Vid, cte.venue as venue, cte.city as city , ipl_ball.extra_runs as extra_runs from cte inner join ipl_ball on cte.id=ipl_ball.match_id),cta as(select sum(cts.extra_runs) as extra_runs , cts.venue, cts.city from cts group by venue ,city),ctb as(select *, rank() over(order by extra_runs desc) as rank from cta)select * from ctb limit \\'{}\\' ' .format(\"1\"))\n",
        "        data = query.fetchall()\n",
        "        for i in data:\n",
        "            print(\"Extras_Run- \"+str(i[0])+\", \"+\"Stadium_Name- \"+str(i[1])+\", \"+\"Stadium_City- \"+str(i[2]))\n",
        "        \n",
        "        \n",
        "    def query6(self):\n",
        "        con =self.connection()\n",
        "        \n",
        "        query= con.cursor()\n",
        "        query.execute('with cte as(select ipl_matches.player_of_match as player_name , count(neutral_venue) as number_of_awards from ipl_matches where ipl_matches.neutral_venue = 1 group by player_name ),cts as(select *, dense_rank() over (order by number_of_awards desc) as rank from cte)select * from cts limit \\'{}\\'' .format(\"4\"))\n",
        "        data = query.fetchall()\n",
        "        for i in data:\n",
        "            print(\"Name of Player- \"+str(i[0])+\", \"+\"Number of Awards-\"+str(i[1]))\n",
        "        \n",
        "        \n",
        "    def query7(self):\n",
        "        con =self.connection()\n",
        "        \n",
        "        query= con.cursor()\n",
        "        query.execute('with cte as (select sum(ipl_ball.batsman_runs) as total_runs, sum(ipl_ball.is_wicket) as total_out,(sum(ipl_ball.batsman_runs)/sum(ipl_ball.is_wicket)) as batting_avg , ipl_ball.batsman as batsman from ipl_ball  group by batsman),cts as (select * , dense_rank() over (order by batting_avg desc) as r from cte )select * from cts where r<\\'{}\\''.format(\"11\"))\n",
        "        data = query.fetchall()\n",
        "        for i in data:\n",
        "            print(\"Runs_scored- \"+ str(i[0])+\", \"+\"Total number of outs- \" + \", \" + str(i[1]) + \", \" + \"Batting Average- \" + str(i[2])+ \", \" + \"Name of player- \" +str(i[3]))\n",
        "        \n",
        "        \n",
        "    def query8(self):\n",
        "        con =self.connection()\n",
        "        \n",
        "        query= con.cursor()\n",
        "        query.execute('with cte as(select match_id, stack(\\'{}\\',\\'{}\\',\\'{}\\',\\'{}\\',\\'{}\\') as (\\'{}\\',\\'{}\\') from ipl_matches ),cts as(select count(cte.match_id) as number_of_matches, cte.umpire_name as umpire_name from cte group by cte.umpire_name),cta as(select *, rank() over (order by number_of_matches desc) as rank from cts)select * from cta where rank=\\'{}\\''.format(\"2\",\"umpire_1\",\"umpire1\",\"umpire_2\",\"umpire2\",\"umpire_term\",\"umpire_name\",\"1\"))\n",
        "        data = query.fetchall()\n",
        "        \n",
        "        return data\n",
        "Query= Database()\n",
        "Query.query1()"
      ],
      "execution_count": null,
      "outputs": [
        {
          "output_type": "display_data",
          "metadata": {
            "application/vnd.databricks.v1+output": {
              "datasetInfos": [],
              "data": "Connected To Database\nNumber of matches hosted- 3 ,Name of stadium- Dubai International Cricket Stadium\nNumber of matches hosted- 2 ,Name of stadium- Sheikh Zayed Stadium\nNumber of matches hosted- 1 ,Name of stadium- Feroz Shah Kotla\nNumber of matches hosted- 1 ,Name of stadium- M.Chinnaswamy Stadium\nNumber of matches hosted- 1 ,Name of stadium- MA Chidambaram Stadium, Chepauk\nNumber of matches hosted- 1 ,Name of stadium- Newlands\nNumber of matches hosted- 1 ,Name of stadium- Rajiv Gandhi International Stadium, Uppal\nNumber of matches hosted- 1 ,Name of stadium- Sardar Patel Stadium, Motera\nNumber of matches hosted- 1 ,Name of stadium- Saurashtra Cricket Association Stadium\nNumber of matches hosted- 1 ,Name of stadium- Wankhede Stadium\n",
              "removedWidgets": [],
              "addedWidgets": {},
              "metadata": {},
              "type": "ansi",
              "arguments": {}
            }
          },
          "data": {
            "text/plain": [
              "Connected To Database\nNumber of matches hosted- 3 ,Name of stadium- Dubai International Cricket Stadium\nNumber of matches hosted- 2 ,Name of stadium- Sheikh Zayed Stadium\nNumber of matches hosted- 1 ,Name of stadium- Feroz Shah Kotla\nNumber of matches hosted- 1 ,Name of stadium- M.Chinnaswamy Stadium\nNumber of matches hosted- 1 ,Name of stadium- MA Chidambaram Stadium, Chepauk\nNumber of matches hosted- 1 ,Name of stadium- Newlands\nNumber of matches hosted- 1 ,Name of stadium- Rajiv Gandhi International Stadium, Uppal\nNumber of matches hosted- 1 ,Name of stadium- Sardar Patel Stadium, Motera\nNumber of matches hosted- 1 ,Name of stadium- Saurashtra Cricket Association Stadium\nNumber of matches hosted- 1 ,Name of stadium- Wankhede Stadium\n"
            ]
          },
          "transient": null
        }
      ]
    },
    {
      "cell_type": "code",
      "metadata": {
        "application/vnd.databricks.v1+cell": {
          "title": "",
          "showTitle": false,
          "inputWidgets": {},
          "nuid": "a2d29f72-a4d8-47a0-9711-bc4b8a5d7bf9"
        },
        "id": "oQcWkt7BSiYN"
      },
      "source": [
        ""
      ],
      "execution_count": null,
      "outputs": []
    }
  ]
}